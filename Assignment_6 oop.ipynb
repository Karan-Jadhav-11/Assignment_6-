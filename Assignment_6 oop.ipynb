{
 "cells": [
  {
   "cell_type": "markdown",
   "id": "3199d3e9-7e2b-4fc1-9752-15cefb89aa6a",
   "metadata": {},
   "source": [
    "### Q1. Explain Class and Object with respect to Object-Oriented Programming. Give a suitable example."
   ]
  },
  {
   "cell_type": "markdown",
   "id": "32f9f265-06f5-4eae-9f6f-f24b7db5abc3",
   "metadata": {},
   "source": [
    "In Python, almost everything is an object, with its properties and methods12.\n",
    "\n",
    "Class: A class is a blueprint or prototype from which objects are created2. It’s a code template for creating objects3. Classes provide a means of bundling data and functionality together2. A class is created by the keyword class\n",
    "\n",
    "syntax of class :\n",
    "    class class_name:\n",
    "example\n",
    "   "
   ]
  },
  {
   "cell_type": "code",
   "execution_count": 10,
   "id": "1723b735-3f95-49be-86fb-382b4e7e7f3b",
   "metadata": {},
   "outputs": [],
   "source": [
    " class MyClass:\n",
    "    x = 5\n",
    "# In this example, MyClass is a class with a property named x"
   ]
  },
  {
   "cell_type": "markdown",
   "id": "01cb85cd-21d1-4a90-98b2-80fb0d53b079",
   "metadata": {},
   "source": [
    "Object: An object is an instance of a class2. Objects have member variables and have behavior associated with them3. An object is created using the constructor of the class\n",
    "For example:"
   ]
  },
  {
   "cell_type": "code",
   "execution_count": 11,
   "id": "f2d080af-9ae7-46c4-a442-5e967e5e47f6",
   "metadata": {},
   "outputs": [
    {
     "name": "stdout",
     "output_type": "stream",
     "text": [
      "5\n"
     ]
    }
   ],
   "source": [
    "p1 = MyClass()\n",
    "print(p1.x)\n",
    "#In this example, p1 is an object of the class MyClass, and we’re printing the value of x"
   ]
  },
  {
   "cell_type": "code",
   "execution_count": 6,
   "id": "0020cce5-856c-425e-9999-738465b8c26e",
   "metadata": {},
   "outputs": [],
   "source": [
    "#progrsm using class and object\n",
    "\n",
    "class person :\n",
    "    def __init__( self, name, age):\n",
    "        self.name = name\n",
    "        self.age = age\n",
    "    def info_person(self):\n",
    "        return self.name , self.age\n",
    "        "
   ]
  },
  {
   "cell_type": "code",
   "execution_count": 7,
   "id": "08ee22d0-0afb-4f2d-a5c6-891504e34de0",
   "metadata": {},
   "outputs": [],
   "source": [
    "kj = person(\"karan jadhav\" , 22)"
   ]
  },
  {
   "cell_type": "code",
   "execution_count": 8,
   "id": "fddcfde2-9617-41fa-95b1-ae41ca4ab23c",
   "metadata": {},
   "outputs": [
    {
     "data": {
      "text/plain": [
       "('karan jadhav', 22)"
      ]
     },
     "execution_count": 8,
     "metadata": {},
     "output_type": "execute_result"
    }
   ],
   "source": [
    "kj.info_person()"
   ]
  },
  {
   "cell_type": "code",
   "execution_count": null,
   "id": "6d6b6239-313f-495c-b1df-28839530fd38",
   "metadata": {},
   "outputs": [],
   "source": []
  },
  {
   "cell_type": "markdown",
   "id": "14c8c806-e6e3-447a-bad7-3deca7a5f523",
   "metadata": {},
   "source": [
    "### Q2. Name the four pillars of OOPs."
   ]
  },
  {
   "cell_type": "markdown",
   "id": "a9699743-0323-4499-a453-b2ac3c8803a6",
   "metadata": {},
   "source": [
    "The four pillars of Object-Oriented Programming (OOP) are:\n",
    "\n",
    "1. Encapsulation:\n",
    "\n",
    "    This refers to the bundling of data (attributes) and methods (functions) that operate on the data into a single unit, known as a class. It helps in hiding the internal details of how an object works and exposing only what is necessary.\n",
    "\n",
    "2. Inheritance:\n",
    "\n",
    "    Inheritance allows a class (subclass or derived class) to inherit properties and behaviors from another class (base class or superclass). This promotes code reusability and establishes a relationship between classes.\n",
    "\n",
    "3. Abstraction: \n",
    "\n",
    "    Abstraction involves simplifying complex systems by modeling classes based on the essential properties and behaviors they possess. It allows you to focus on what an object does rather than how it achieves its functionality.\n",
    "\n",
    "4. Polymorphism:\n",
    "\n",
    "    Polymorphism allows objects of different classes to be treated as objects of a common base class. It provides a way for different classes to implement the same method name but with different functionality. This enables flexibility in code design and enhances code readability and maintainability."
   ]
  },
  {
   "cell_type": "markdown",
   "id": "2b03c55a-4176-4954-a642-5c44d54f78d9",
   "metadata": {},
   "source": [
    "### Q3. Explain why the __init__() function is used. Give a suitable example."
   ]
  },
  {
   "cell_type": "markdown",
   "id": "0cc97000-a5c8-4711-93b4-7ec2db888cdb",
   "metadata": {},
   "source": [
    "ANS: \n",
    "    In Python, the __init__() function is a special method used in object-oriented programming. It is also known as a constructor. \n",
    "    __init__ method in Python is used to initialize objects of a class. It is also called a constructor.\n",
    "     The __init__() function is automatically called when a new instance (object) of a class is created12.\n",
    "\n",
    "The __init__() function is used to initialize the object’s state. The task of constructors is to initialize (assign values) to the data members of the class when an object of the class is created. Like methods, a constructor also contains a collection of statements (i.e., instructions) that are executed at the time of object creation. It is run as soon as an object of a class is instantiated. The method is useful to do any initialization you want to do with your object.\n",
    "    "
   ]
  },
  {
   "cell_type": "code",
   "execution_count": 3,
   "id": "79ecdf77-7c26-42ff-9a73-022c613bc829",
   "metadata": {},
   "outputs": [
    {
     "name": "stdout",
     "output_type": "stream",
     "text": [
      "student name is :  karan\n",
      " roll number is :  20\n",
      "marks obtain is :  98\n"
     ]
    }
   ],
   "source": [
    "# example\n",
    "class school :\n",
    "    def __init__(self , student_name , roll_no , marks):\n",
    "        self.student_name = student_name\n",
    "        self.roll_no = roll_no\n",
    "        self.marks = marks\n",
    "    def student_info(self):\n",
    "        print(\"student name is : \" , self.student_name)\n",
    "        print(\" roll number is : \" , self.roll_no )\n",
    "        print(\"marks obtain is : \", self.marks)\n",
    "        \n",
    "sh = school(\"karan\", 20 , 98)\n",
    "sh.student_info()"
   ]
  },
  {
   "cell_type": "code",
   "execution_count": null,
   "id": "8af7eafd-ff31-4d67-a99e-f10ca2ba021d",
   "metadata": {},
   "outputs": [],
   "source": []
  },
  {
   "cell_type": "markdown",
   "id": "9b0f796d-4677-4750-8946-d054935cca44",
   "metadata": {},
   "source": [
    "### Q4. Why self is used in OOPs?"
   ]
  },
  {
   "cell_type": "markdown",
   "id": "2887f78a-6434-4491-b1c1-90103188387d",
   "metadata": {},
   "source": [
    "ANS : \n",
    "   \n",
    "   In object-oriented programming (OOP) in Python, the self keyword is used as the first parameter in the method definitions within a class. The purpose of self is to reference the instance of the class that the method is called on. It allows you to access and manipulate the attributes and methods of that particular instance.\n",
    "\n",
    "When you call a method on an instance of a class, Python automatically passes the instance as the first argument to the method. By convention, this parameter is named self, but you can choose any name you like"
   ]
  },
  {
   "cell_type": "code",
   "execution_count": 7,
   "id": "3829dd42-958f-4a7a-9d1b-ce04e0b2b877",
   "metadata": {},
   "outputs": [
    {
     "name": "stdout",
     "output_type": "stream",
     "text": [
      "The Toyota Lennova is now moving at 120 km/h.\n"
     ]
    }
   ],
   "source": [
    "class Car:\n",
    "    def __init__(self, make, model):\n",
    "        self.make = make\n",
    "        self.model = model\n",
    "        self.speed = 0\n",
    "\n",
    "    def accelerate(self, amount):\n",
    "        self.speed += amount\n",
    "        print(f\"The {self.make} {self.model} is now moving at {self.speed} km/h.\")\n",
    "\n",
    "# Creating an instance of the Car class\n",
    "my_car = Car(\"Toyota\", \"Lennova\")\n",
    "\n",
    "# Calling a method on the instance\n",
    "my_car.accelerate(120)"
   ]
  },
  {
   "cell_type": "code",
   "execution_count": null,
   "id": "6a562112-00e0-4c1f-9703-930f03ba7f25",
   "metadata": {},
   "outputs": [],
   "source": []
  },
  {
   "cell_type": "markdown",
   "id": "1a3c015c-e60c-4cd6-9473-edd35852485b",
   "metadata": {},
   "source": [
    "### Q5. What is inheritance? Give an example for each type of inheritance."
   ]
  },
  {
   "cell_type": "markdown",
   "id": "46df63e3-7933-4f21-a5b1-1d3187570a4f",
   "metadata": {},
   "source": [
    "ANS : \n",
    "    In Python, inheritance is a core concept of object-oriented programming12. It allows us to create a new class from an existing one12. The newly created class is known as the subclass (child or derived class), and the existing class from which the child class inherits is known as the superclass (parent or base class)12.\n",
    "\n",
    "Inheritance allows you to inherit the properties of a class, i.e., base class to another, i.e., derived class2. It represents real-world relationships well, provides the reusability of a code, and allows us to add more features to a class without modifying it2.\n",
    "\n",
    "Here are examples of different types of inheritance in Python:"
   ]
  },
  {
   "cell_type": "markdown",
   "id": "05087819-a3d7-4bab-9714-a24e1ce2442c",
   "metadata": {},
   "source": [
    "1. Single Inheritance: When a child class inherits from only one parent class, it is called single inheritance.This is the simplest form of inheritance. Here is an example:"
   ]
  },
  {
   "cell_type": "code",
   "execution_count": 9,
   "id": "97c6f91d-1d98-4fe6-a0c3-68a640e15951",
   "metadata": {},
   "outputs": [
    {
     "name": "stdout",
     "output_type": "stream",
     "text": [
      "this is function one \n",
      "this is function two \n"
     ]
    }
   ],
   "source": [
    "# example of single inheritence\n",
    "class parent :\n",
    "    def func1 (self) :\n",
    "        print(\"this is function one \")\n",
    "\n",
    "class child(parent) :\n",
    "    def func2(self):\n",
    "        print(\"this is function two \")\n",
    "        \n",
    "ob = child()\n",
    "ob.func1()\n",
    "ob.func2()"
   ]
  },
  {
   "cell_type": "markdown",
   "id": "5dd75b14-834d-415e-9e17-f7ba3e291844",
   "metadata": {},
   "source": [
    "2. Multiple Inheritance: When a child class inherits from more than one parent class, it is called multiple inheritance.This allows the subclass to inherit attributes and methods from multiple classes. Here is an example:"
   ]
  },
  {
   "cell_type": "code",
   "execution_count": 10,
   "id": "7f82f708-5564-4734-bc44-f81d50523b01",
   "metadata": {},
   "outputs": [
    {
     "name": "stdout",
     "output_type": "stream",
     "text": [
      "this is parent 1s function\n",
      "this is the parent 2s function\n",
      "this is childs function\n"
     ]
    }
   ],
   "source": [
    "# example of multiple inheritence\n",
    "\n",
    "class parent1 :\n",
    "    def func1(self) :\n",
    "        print(\"this is parent 1s function\")\n",
    "\n",
    "class parent2 :\n",
    "    def func2(self) :\n",
    "        print(\"this is the parent 2s function\")\n",
    "        \n",
    "class child(parent1 , parent2) :\n",
    "    def child_func(self):\n",
    "        print(\"this is childs function\")\n",
    "        \n",
    "ob = child()\n",
    "ob.func1()\n",
    "ob.func2()\n",
    "ob.child_func()"
   ]
  },
  {
   "cell_type": "markdown",
   "id": "3fba61ea-01c3-49a3-8549-00292c618aca",
   "metadata": {},
   "source": [
    "3. Multilevel Inheritance: When a child class becomes a parent class for another child class, it’s known as multilevel inheritance.This forms a chain of inheritance. Here is an example:"
   ]
  },
  {
   "cell_type": "code",
   "execution_count": null,
   "id": "576c85ac-e830-426b-bb9b-42e795b3db92",
   "metadata": {},
   "outputs": [],
   "source": [
    "# exapmle of multi level inheritence \n",
    "\n",
    "class Grandparent:\n",
    "    def func1(self):\n",
    "        print(\"This is function 1\")\n",
    "\n",
    "class Parent(Grandparent):\n",
    "    def func2(self):\n",
    "        print(\"This is function 2\")\n",
    "\n",
    "class Child(Parent):\n",
    "    def func3(self):\n",
    "        print(\"This is function 3\")\n",
    "\n",
    "ob = Child()\n",
    "ob.func1()\n",
    "ob.func2()\n",
    "ob.func3()\n"
   ]
  }
 ],
 "metadata": {
  "kernelspec": {
   "display_name": "Python 3 (ipykernel)",
   "language": "python",
   "name": "python3"
  },
  "language_info": {
   "codemirror_mode": {
    "name": "ipython",
    "version": 3
   },
   "file_extension": ".py",
   "mimetype": "text/x-python",
   "name": "python",
   "nbconvert_exporter": "python",
   "pygments_lexer": "ipython3",
   "version": "3.10.8"
  }
 },
 "nbformat": 4,
 "nbformat_minor": 5
}
